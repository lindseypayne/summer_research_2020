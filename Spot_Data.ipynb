{
 "cells": [
  {
   "cell_type": "markdown",
   "metadata": {},
   "source": [
    "# --- CORRELATING (FLUX OF) SPOTS (FAKE STARS FROM SPOT PROJECTOR) WITH FLAT FIELDS ---"
   ]
  },
  {
   "cell_type": "markdown",
   "metadata": {},
   "source": [
    "The spot projector is used is 2 ways:\n",
    "        taking many images at one location on the sensor\n",
    "        taking many images each at a different position on the sensor\n",
    "            this type of data we have for one ITL and one E2V sensor "
   ]
  },
  {
   "cell_type": "markdown",
   "metadata": {},
   "source": [
    "Looking at the relative throughput of each pixel in the sensor, checking if it is the same when tested with the spot projector vs. flat fielding. Answers/confirms the preceding question of: does flat fielding correctly describe how QE varies per pixel per wavelength?? "
   ]
  },
  {
   "cell_type": "markdown",
   "metadata": {},
   "source": [
    "If there are variations in relative throughput between spots (for one sensor), this can tell us how much of the variation is due to the flux of the star/light source vs. due to the response of the CCD OR position of sensor/amplifier/pixel in the FOCAL PLANE! (QE can vary spatially depending on region of focal plane/sensor/amp)"
   ]
  },
  {
   "cell_type": "markdown",
   "metadata": {},
   "source": [
    "Calibrate average flux value for spots and for CCOB flat. Divide each \"star\" and each CCOB flat pixel by the respective average flux value to get the CALIBRATED value of each \"star\"/flat pixel.\n",
    "\n",
    "I will access Adam's code and pull flux data (with mean of flux of each star, one mean for each dither) and x,y position data to tell me where the star is on the grid. This mean flux is our \"calibration\" value, I can take the flux of each star and divide by the calibration value to get relative throughput for each \"star\" (RESIDUAL) and see how this varies with focal plane location, etc., then I can compare this calibrated value in a \"star\" region against the same positional region in the flat. It will be important to use code that conducts mapping between amp/ccd/focal plane coordinates.\n",
    "\n",
    "(https://github.com/snyder18/mixcoatl)"
   ]
  },
  {
   "cell_type": "markdown",
   "metadata": {},
   "source": [
    "#### \"STARS\" SHOULD IDEALLY SHOW THE SAME VARIATIONS THAT THE FLAT FIELDS DO!!"
   ]
  },
  {
   "cell_type": "markdown",
   "metadata": {},
   "source": [
    "#### Yousuke's idea:\n",
    "\n",
    "- Yes. the one Oscar is working but complimentary. I am not super clear yet but let me try to explain. As we don't know how the QE variation affects in science product, investigating the correlation between QE variation -- flat with spot is interesting. Thinking about the spot, you have measurements of flux (zero-th), positions (1st), and shape (2nd moments). So you can correlate those measurements with QE variations. Suppose we are going to compare flux f a function of positions against QE variation Q (as a function of positions), we can calculate correlation coefficient r =<df dQ>/(<df^2><dQ^2>) using deviations df, dQ from mean numbers <f>, <Q> . \n",
    "- If there is the correlation, r will be a non-zero value and vice versa. You could repeat this analysis with positional differences from fiducial as a function of positions, shapes as a function of positions.\n",
    "But what I am not clear is how we say whether if it is significant or not. We should evaluate noise level in r but I haven't had a clear view how we evaluate noise level, but eventually I'll come up with some idea hopefully? Probably we could use typical methods -- bootstrap or jackknife but I am not super clear. "
   ]
  },
  {
   "cell_type": "code",
   "execution_count": 1,
   "metadata": {},
   "outputs": [],
   "source": [
    "# all 1400? position data filed located in spotdata directory\n",
    "# referencing Adam's code on git to utilize data, changing it to measure flux though (not centroid)\n",
    "\n",
    "# NaN : not a number, a value in an array such as 0/0 is NaN\n",
    "# masked array : missing data values"
   ]
  },
  {
   "cell_type": "code",
   "execution_count": 2,
   "metadata": {},
   "outputs": [],
   "source": [
    "# sourceGridTask.py imports functions in sourcegrid.py\n",
    "\n",
    "\"\"\"\n",
    "import os\n",
    "import numpy as np\n",
    "from os.path import join, splitext\n",
    "import scipy\n",
    "from scipy.spatial import distance\n",
    "from astropy.io import fits\n",
    "import lsst.pex.config as pexConfig\n",
    "import lsst.pipe.base as pipeBase\n",
    "from lsst.obs.lsst import LsstCamMapper as camMapper\n",
    "from lsst.obs.lsst.cameraTransforms import LsstCameraTransforms\n",
    "\"\"\"\n",
    "\n",
    "from sourcegrid import BaseGrid, DistortedGrid, grid_fit, coordinate_distances\n",
    "from sourceGridTask import SourceGridConfig, SourceGridTask"
   ]
  },
  {
   "cell_type": "markdown",
   "metadata": {},
   "source": [
    "## I'll want to build a \"calibration\" file, holding the mean flux for each artificial star.  Adam has something similar now for the centroid - thats the gX and gY in the code I think. You’ll need to make mean flux values and subtract those off when calculating dflux_array.\n",
    "\n",
    "\n",
    "From Adam's notebook:"
   ]
  },
  {
   "cell_type": "code",
   "execution_count": 3,
   "metadata": {},
   "outputs": [],
   "source": [
    "from astropy.io import fits\n",
    "import matplotlib.pyplot as plt\n",
    "import numpy as np\n",
    "import glob"
   ]
  },
  {
   "cell_type": "code",
   "execution_count": 4,
   "metadata": {},
   "outputs": [],
   "source": [
    "## Example processed grid, all of these files are located in my directory: spotdata\n",
    "## 3rd file down, testing\n",
    "infile = '/home/lpayne22/spotdata/MC_C_20191030_000363_R22_S11_15.0s_0.1x_-3.5y_processed_grid.fits'\n",
    "#infile = '/nfs/slac/g/ki/ki19/lsst/snyder18/LSST/Data/BOT/6864D_dither/results/MC_C_20191030_000363_R22_S11_15.0s_0.1x_-3.5y_processed_grid.fits'"
   ]
  },
  {
   "cell_type": "code",
   "execution_count": 5,
   "metadata": {},
   "outputs": [
    {
     "name": "stdout",
     "output_type": "stream",
     "text": [
      "Main Header\n",
      "\n",
      "SIMPLE  =                    T / conforms to FITS standard                      \n",
      "BITPIX  =                    8 / array data type                                \n",
      "NAXIS   =                    0 / number of array dimensions                     \n",
      "EXTEND  =                    T                                                  \n",
      "X0      =    2385.220108337066                                                  \n",
      "Y0      =    1996.675045679444                                                  \n",
      "XSTEP   =    65.34408630180397                                                  \n",
      "YSTEP   =    65.35191691653706                                                  \n",
      "THETA   = -0.05426371615038783                                                  \n",
      "NCOLS   =                   49                                                  \n",
      "NROWS   =                   49                                                  \n",
      "\n",
      "Table Header\n",
      "\n",
      "XTENSION= 'BINTABLE'           / binary table extension                         \n",
      "BITPIX  =                    8 / array data type                                \n",
      "NAXIS   =                    2 / number of array dimensions                     \n",
      "NAXIS1  =                   80 / length of dimension 1                          \n",
      "NAXIS2  =                 2401 / length of dimension 2                          \n",
      "PCOUNT  =                    0 / number of group parameters                     \n",
      "GCOUNT  =                    1 / number of groups                               \n",
      "TFIELDS =                   10 / number of table fields                         \n",
      "TTYPE1  = 'X       '                                                            \n",
      "TFORM1  = 'D       '                                                            \n",
      "TTYPE2  = 'Y       '                                                            \n",
      "TFORM2  = 'D       '                                                            \n",
      "TTYPE3  = 'DX      '                                                            \n",
      "TFORM3  = 'D       '                                                            \n",
      "TTYPE4  = 'DY      '                                                            \n",
      "TFORM4  = 'D       '                                                            \n",
      "TTYPE5  = 'FLUX    '                                                            \n",
      "TFORM5  = 'D       '                                                            \n",
      "TTYPE6  = 'DFLUX   '                                                            \n",
      "TFORM6  = 'D       '                                                            \n",
      "TTYPE7  = 'XX      '                                                            \n",
      "TFORM7  = 'D       '                                                            \n",
      "TTYPE8  = 'YY      '                                                            \n",
      "TFORM8  = 'D       '                                                            \n",
      "TTYPE9  = 'DXX     '                                                            \n",
      "TFORM9  = 'D       '                                                            \n",
      "TTYPE10 = 'DYY     '                                                            \n",
      "TFORM10 = 'D       '                                                            \n"
     ]
    }
   ],
   "source": [
    "## Open as a FITs table with all of spot data using Astropy\n",
    "hdul = fits.open(infile)\n",
    "\n",
    "## Print Main Header\n",
    "print('Main Header\\n')\n",
    "print(repr(hdul[0].header))\n",
    "\n",
    "\n",
    "## Print Table Header\n",
    "print('\\nTable Header\\n')\n",
    "print(repr(hdul[1].header))"
   ]
  },
  {
   "cell_type": "code",
   "execution_count": 6,
   "metadata": {},
   "outputs": [
    {
     "data": {
      "text/plain": [
       "Text(0.5, 1.0, 'Fake Star Widths')"
      ]
     },
     "execution_count": 6,
     "metadata": {},
     "output_type": "execute_result"
    }
   ],
   "source": [
    "## Get Data table\n",
    "data = hdul[1].data\n",
    "\n",
    "## Get fake stars x/y positions and XX moment\n",
    "x = data['X']\n",
    "y = data['Y']\n",
    "xx = data['XX']\n",
    "yy = data['YY']\n",
    "\n",
    "width = np.sqrt(xx**2.+yy**2.)\n",
    "\n",
    "## For each star plot its mean 'width' as defined above (calculated from many measurements of each star)\n",
    "fig, ax = plt.subplots(1, 1, figsize=(12, 10))\n",
    "im = ax.scatter(x, y, c=width)\n",
    "\n",
    "fig.colorbar(im)\n",
    "ax.set_title('Fake Star Widths', fontsize=20)"
   ]
  },
  {
   "cell_type": "code",
   "execution_count": 7,
   "metadata": {},
   "outputs": [
    {
     "data": {
      "text/plain": [
       "Text(0.5, 1.0, 'Fake Star Fluxes')"
      ]
     },
     "execution_count": 7,
     "metadata": {},
     "output_type": "execute_result"
    }
   ],
   "source": [
    "## Get Data table\n",
    "data = hdul[1].data\n",
    "\n",
    "## Get fake stars x/y positions and XX moment\n",
    "x = data['X']\n",
    "y = data['Y']\n",
    "\n",
    "flux = data['FLUX']\n",
    "\n",
    "## For each star its flux is plotted\n",
    "fig, ax = plt.subplots(1, 1, figsize=(12, 10))\n",
    "im = ax.scatter(x, y, c=flux)\n",
    "\n",
    "fig.colorbar(im)\n",
    "ax.set_title('Fake Star Fluxes', fontsize=20)"
   ]
  },
  {
   "cell_type": "code",
   "execution_count": null,
   "metadata": {},
   "outputs": [],
   "source": []
  }
 ],
 "metadata": {
  "kernelspec": {
   "display_name": "LSST",
   "language": "python",
   "name": "lsst"
  },
  "language_info": {
   "codemirror_mode": {
    "name": "ipython",
    "version": 3
   },
   "file_extension": ".py",
   "mimetype": "text/x-python",
   "name": "python",
   "nbconvert_exporter": "python",
   "pygments_lexer": "ipython3",
   "version": "3.7.6"
  }
 },
 "nbformat": 4,
 "nbformat_minor": 4
}
