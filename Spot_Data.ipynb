{
 "cells": [
  {
   "cell_type": "markdown",
   "metadata": {},
   "source": [
    "# --- CORRELATING (FLUX OF) SPOTS (FAKE STARS FROM SPOT PROJECTOR) WITH FLAT FIELDS ---"
   ]
  },
  {
   "cell_type": "markdown",
   "metadata": {},
   "source": [
    "The spot projector is used is 2 ways:\n",
    "        taking many images at one location on the sensor\n",
    "        taking many images each at a different position on the sensor\n",
    "            this type of data we have for one ITL and one E2V sensor "
   ]
  },
  {
   "cell_type": "markdown",
   "metadata": {},
   "source": [
    "Looking at the relative throughput of each pixel in the sensor, checking if it is the same when tested with the spot projector vs. flat fielding. Answers/confirms the preceding question of: does flat fielding correctly describe how QE varies per pixel per wavelength?? "
   ]
  },
  {
   "cell_type": "markdown",
   "metadata": {},
   "source": [
    "If there are variations in relative throughput between spots (for one sensor), this can tell us how much of the variation is due to the flux of the star/light source vs. due to the response of the CCD OR position of sensor/amplifier/pixel in the FOCAL PLANE! (QE can vary spatially depending on region of focal plane/sensor/amp)"
   ]
  },
  {
   "cell_type": "markdown",
   "metadata": {},
   "source": [
    "Calibrate average flux value for spots and for CCOB flat. Divide each \"star\" and each CCOB flat pixel by the respective average flux value to get the CALIBRATED value of each \"star\"/flat pixel.\n",
    "\n",
    "I will modify Adam's code to look at flux instead of position, I will get this calibration value, I can take the flux of each star and divide by th calibration value to get relative throughput for each \"star\" and see how this varies with focal plane location, etc., then I can compare this calibrated value in a \"star\" region against the same positional region in the flat. It will be important to use code that conducts mapping between amp/ccd/focal plane coordinates.\n",
    "\n",
    "(https://github.com/snyder18/mixcoatl)"
   ]
  },
  {
   "cell_type": "markdown",
   "metadata": {},
   "source": [
    "#### \"STARS\" SHOULD IDEALLY SHOW THE SAME VARIATIONS THAT THE FLAT FIELDS DO!!"
   ]
  },
  {
   "cell_type": "markdown",
   "metadata": {},
   "source": [
    "#### Yousuke's idea:\n",
    "\n",
    "- Yes. the one Oscar is working but complimentary. I am not super clear yet but let me try to explain. As we don't know how the QE variation affects in science product, investigating the correlation between QE variation -- flat with spot is interesting. Thinking about the spot, you have measurements of flux (zero-th), positions (1st), and shape (2nd moments). So you can correlate those measurements with QE variations. Suppose we are going to compare flux f a function of positions against QE variation Q (as a function of positions), we can calculate correlation coefficient r =<df dQ>/(<df^2><dQ^2>) using deviations df, dQ from mean numbers <f>, <Q> . \n",
    "- If there is the correlation, r will be a non-zero value and vice versa. You could repeat this analysis with positional differences from fiducial as a function of positions, shapes as a function of positions.\n",
    "But what I am not clear is how we say whether if it is significant or not. We should evaluate noise level in r but I haven't had a clear view how we evaluate noise level, but eventually I'll come up with some idea hopefully? Probably we could use typical methods -- bootstrap or jackknife but I am not super clear. "
   ]
  },
  {
   "cell_type": "code",
   "execution_count": 1,
   "metadata": {},
   "outputs": [],
   "source": [
    "# all 1400? position data filed located in spotdata directory\n",
    "# referencing Adam's code on git to utilize data, changing it to measure flux though (not centroid)\n",
    "\n",
    "# NaN : not a number, a value in an array such as 0/0 is NaN\n",
    "# masked array : missing data values"
   ]
  },
  {
   "cell_type": "code",
   "execution_count": 4,
   "metadata": {},
   "outputs": [],
   "source": [
    "# sourceGridTask.py imports functions in sourcegrid.py\n",
    "\n",
    "\"\"\"import os\n",
    "import numpy as np\n",
    "from os.path import join, splitext\n",
    "import scipy\n",
    "from scipy.spatial import distance\n",
    "from astropy.io import fits\n",
    "import lsst.pex.config as pexConfig\n",
    "import lsst.pipe.base as pipeBase\n",
    "from lsst.obs.lsst import LsstCamMapper as camMapper\n",
    "from lsst.obs.lsst.cameraTransforms import LsstCameraTransforms\n",
    "\"\"\"\n",
    "\n",
    "from sourcegrid import BaseGrid, DistortedGrid, grid_fit, coordinate_distances\n",
    "from sourceGridTask import SourceGridConfig, SourceGridTask"
   ]
  },
  {
   "cell_type": "code",
   "execution_count": 5,
   "metadata": {},
   "outputs": [
    {
     "ename": "NameError",
     "evalue": "name 'pexConfig' is not defined",
     "output_type": "error",
     "traceback": [
      "\u001b[0;31m---------------------------------------------------------------------------\u001b[0m",
      "\u001b[0;31mNameError\u001b[0m                                 Traceback (most recent call last)",
      "\u001b[0;32m<ipython-input-5-f86c6e549ca9>\u001b[0m in \u001b[0;36m<module>\u001b[0;34m\u001b[0m\n\u001b[0;32m----> 1\u001b[0;31m \u001b[0mSourceGridConfig\u001b[0m\u001b[0;34m(\u001b[0m\u001b[0mpexConfig\u001b[0m\u001b[0;34m.\u001b[0m\u001b[0mConfig\u001b[0m\u001b[0;34m)\u001b[0m\u001b[0;34m\u001b[0m\u001b[0;34m\u001b[0m\u001b[0m\n\u001b[0m",
      "\u001b[0;31mNameError\u001b[0m: name 'pexConfig' is not defined"
     ]
    }
   ],
   "source": [
    "SourceGridConfig(pexConfig.Config)"
   ]
  },
  {
   "cell_type": "code",
   "execution_count": null,
   "metadata": {},
   "outputs": [],
   "source": []
  }
 ],
 "metadata": {
  "kernelspec": {
   "display_name": "LSST",
   "language": "python",
   "name": "lsst"
  },
  "language_info": {
   "codemirror_mode": {
    "name": "ipython",
    "version": 3
   },
   "file_extension": ".py",
   "mimetype": "text/x-python",
   "name": "python",
   "nbconvert_exporter": "python",
   "pygments_lexer": "ipython3",
   "version": "3.7.6"
  }
 },
 "nbformat": 4,
 "nbformat_minor": 4
}
